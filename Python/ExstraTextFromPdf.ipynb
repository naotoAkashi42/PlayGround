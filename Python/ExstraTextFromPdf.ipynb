{
 "cells": [
  {
   "cell_type": "markdown",
   "metadata": {},
   "source": [
    "# 形態素解析の研究"
   ]
  },
  {
   "cell_type": "markdown",
   "metadata": {},
   "source": [
    "処理の流れ\n",
    "1. Pdfファイルからテキストを抽出する\n",
    "2. janomeライブラリを使って名詞だけを取りだしてListに格納する\n",
    "3. 名詞のリストから重複を削除する\n",
    "4. "
   ]
  },
  {
   "cell_type": "code",
   "execution_count": null,
   "metadata": {},
   "outputs": [],
   "source": [
    "# janome\n",
    "# require pip install pdfminer.six\n",
    "import os\n",
    "from pdfminer.high_level import extract_text\n",
    "from janome.tokenizer import Tokenizer\n",
    "from janome.analyzer import Analyzer\n",
    "from janome.tokenfilter import *\n",
    "from janome.charfilter import *\n",
    "\n",
    "def SaveToTxtFile(texts, fileName):\n",
    "    with open(os.path.join('C:\\work', fileName + str('.txt')), r\"\\w\", encoding=\"utf-8\") as file:\n",
    "        for text in texts:\n",
    "            file.write(text)    \n",
    "\n",
    "targetFileFullPath = input()\n",
    "(fileNameWithoutExt, _) = os.path.splitext(os.path.basename(targetFileFullPath))\n",
    "\n",
    "texts = extract_text(targetFileFullPath)\n",
    "tokenizer = Tokenizer()\n",
    "\n",
    "char_filters = [UnicodeNormalizeCharFilter(), RegexReplaceCharFilter(r\"[IiⅠｉ?.*/~=()〝 <>:：《°!！!？（）-]+\", \"\")]\n",
    "tokenizer = Tokenizer()\n",
    "token_filters = [POSKeepFilter([\"名詞\"]), POSStopFilter([\"名詞,非自立\", \"名詞,数\", \"名詞,代名詞\", \"名詞,接尾\"]), ExtractAttributeFilter('surface')]\n",
    "analyzer = Analyzer(char_filters=char_filters, tokenizer=tokenizer, token_filters=token_filters)\n",
    "\n",
    "\n",
    "words = []\n",
    "for t in tokenizer.tokenize(texts):\n",
    "    words.append(t)"
   ]
  },
  {
   "cell_type": "code",
   "execution_count": null,
   "metadata": {},
   "outputs": [],
   "source": [
    "words = []\n",
    "for a in analyzer.analyze(texts):\n",
    "    words.append(a)\n",
    "\n",
    "# 重複は削除しておく\n",
    "extract_words = set(words)"
   ]
  },
  {
   "cell_type": "code",
   "execution_count": null,
   "metadata": {},
   "outputs": [],
   "source": [
    "for ex_word in extract_words:\n",
    "    print(ex_word)"
   ]
  },
  {
   "cell_type": "code",
   "execution_count": null,
   "metadata": {},
   "outputs": [],
   "source": [
    "from googletrans import Translator\n",
    "\n",
    "tr = Translator(service_urls=['translate.googleapis.com'])\n",
    "while True:\n",
    "  try:\n",
    "    text = tr.translate(\"こんにちは\", dest=\"en\").text\n",
    "    break\n",
    "  except Exception as e:\n",
    "    #tr = Translator()\n",
    "    tr = Translator(service_urls=['translate.googleapis.com'])"
   ]
  }
 ],
 "metadata": {
  "kernelspec": {
   "display_name": "Python 3",
   "language": "python",
   "name": "python3"
  },
  "language_info": {
   "codemirror_mode": {
    "name": "ipython",
    "version": 3
   },
   "file_extension": ".py",
   "mimetype": "text/x-python",
   "name": "python",
   "nbconvert_exporter": "python",
   "pygments_lexer": "ipython3",
   "version": "3.12.2"
  }
 },
 "nbformat": 4,
 "nbformat_minor": 2
}
