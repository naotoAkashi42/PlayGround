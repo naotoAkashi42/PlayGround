{
 "cells": [
  {
   "cell_type": "code",
   "execution_count": null,
   "metadata": {},
   "outputs": [],
   "source": [
    "from spire.pdf import PdfDocument\n",
    "from spire.pdf import PdfTextExtractOptions\n",
    "from spire.pdf import PdfTextExtractor\n",
    "import os \n",
    "\n",
    "targetPdf = input()\n",
    "\n",
    "pdf = PdfDocument()\n",
    "pdf.LoadFromFile(targetPdf)\n",
    "\n",
    "extracted_text = \"\"\n",
    "\n",
    "extract_options = PdfTextExtractOptions()\n",
    "extract_options.IsSimpleExtraction = True\n",
    "\n",
    "print(pdf.Pages.Count)\n",
    "\n",
    "for i in range(pdf.Pages.Count):\n",
    "    page = pdf.Pages.get_Item(i)\n",
    "    text_extractor = PdfTextExtractor(page)\n",
    "    text = text_extractor.ExtractText(extract_options)\n",
    "    extracted_text += text\n",
    "\n",
    "(fileNameWithoutExt, _) = os.path.splitext(os.path.basename(targetPdf))\n",
    "\n",
    "with open(os.path.join('C:\\work', fileNameWithoutExt + str('.txt')), \"w\", encoding=\"utf-8\") as file:\n",
    "    file.write(extracted_text)\n",
    "pdf.Close()\n"
   ]
  },
  {
   "cell_type": "code",
   "execution_count": null,
   "metadata": {},
   "outputs": [],
   "source": [
    "# require pip install pdfminer.six\n",
    "from pdfminer.high_level import extract_text\n",
    "\n",
    "targetFileFullPath = input()\n",
    "\n",
    "(fileNameWithoutExt, _) = os.path.splitext(os.path.basename(targetFileFullPath))\n",
    "\n",
    "with open(os.path.join('C:\\work', fileNameWithoutExt + str('.txt')), \"w\", encoding=\"utf-8\") as file:\n",
    "    file.write(extracted_text)\n",
    "pdf.Close()"
   ]
  }
 ],
 "metadata": {
  "kernelspec": {
   "display_name": "Python 3",
   "language": "python",
   "name": "python3"
  },
  "language_info": {
   "codemirror_mode": {
    "name": "ipython",
    "version": 3
   },
   "file_extension": ".py",
   "mimetype": "text/x-python",
   "name": "python",
   "nbconvert_exporter": "python",
   "pygments_lexer": "ipython3",
   "version": "3.9.6"
  }
 },
 "nbformat": 4,
 "nbformat_minor": 2
}
