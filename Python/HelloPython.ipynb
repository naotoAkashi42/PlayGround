{
 "cells": [
  {
   "cell_type": "code",
   "execution_count": 58,
   "id": "fc016ff1",
   "metadata": {},
   "outputs": [],
   "source": [
    "#候補表示出すおまじない\n",
    "%config IPCompleter.greedy=True"
   ]
  },
  {
   "cell_type": "code",
   "execution_count": 59,
   "id": "b9370103",
   "metadata": {},
   "outputs": [],
   "source": [
    "class Circle:\n",
    "    #private 変数にするときは「__」を先頭につける。\n",
    "    __pi = 3.14 \n",
    "    \n",
    "    def len(self, r):\n",
    "        return r * 2 * self.__pi \n",
    "    \n",
    "    def area(self, r):\n",
    "        return r**2 * self.__pi    "
   ]
  },
  {
   "cell_type": "code",
   "execution_count": 72,
   "id": "a97fc3e8",
   "metadata": {},
   "outputs": [],
   "source": [
    "class Animal:\n",
    "    #コンストラクタ\n",
    "    def __init__(self, name):\n",
    "        self.name = name\n",
    "    #デストラクタ\n",
    "    def __del__(self):\n",
    "        print(\"destructor called\")\n",
    "    def getName(self):\n",
    "        return self.name\n",
    "    #クラスメソッド\n",
    "    def ClsMethod(cls):\n",
    "        return "
   ]
  },
  {
   "cell_type": "code",
   "execution_count": 77,
   "id": "2293b18d",
   "metadata": {},
   "outputs": [],
   "source": [
    "#継承 is-a 関係　Panda is a Animal\n",
    "class Panda(Animal):\n",
    "    def eat(self):\n",
    "        print(\"eat\")\n",
    "        \n",
    "    #オーバライド　super関数からサブクラスの関数を呼べる。\n",
    "    def getName(self):\n",
    "        baseName = super().getName()\n",
    "        print(\"Panda name is \"+ baseName)"
   ]
  },
  {
   "cell_type": "code",
   "execution_count": 87,
   "id": "cc86b07e",
   "metadata": {},
   "outputs": [],
   "source": [
    "class Display:\n",
    "    def __init__(self):\n",
    "        print(\"output sentence\")    \n",
    "    def display(self, sentence):\n",
    "        print(sentence)\n",
    "        \n",
    "class DecoDisplay(Display):\n",
    "    def display(self, sentence):\n",
    "        print(\"~\" + sentence + \"~\")        "
   ]
  },
  {
   "cell_type": "code",
   "execution_count": 88,
   "id": "7ac87618",
   "metadata": {},
   "outputs": [
    {
     "name": "stdout",
     "output_type": "stream",
     "text": [
      "output sentence\n",
      "~hoge~\n"
     ]
    }
   ],
   "source": [
    "d = DecoDisplay()\n",
    "d.display(\"hoge\")"
   ]
  },
  {
   "cell_type": "code",
   "execution_count": 97,
   "id": "0e007381",
   "metadata": {},
   "outputs": [],
   "source": [
    "#abstract class\n",
    "from abc import ABC, abstractclassmethod\n",
    "class Human(ABC):\n",
    "    @abstractclassmethod #抽象メソッドにつけるデコレータ。継承先のクラスでの実装を強制する。\n",
    "    def say(self):\n",
    "        #ここに実装はかけない。\n",
    "        pass  \n",
    "class Teacher(Human):\n",
    "    def say(self):\n",
    "        print(\"i am a teacher\")\n",
    "        \n",
    "class Programmer(Human):\n",
    "    def say(self):\n",
    "        print(\"i am a programmer\")\n",
    "        \n",
    "def Say(Human):\n",
    "    Human.say()"
   ]
  },
  {
   "cell_type": "code",
   "execution_count": 104,
   "id": "4a2398b8",
   "metadata": {},
   "outputs": [],
   "source": [
    "# 特殊メソッド = objectクラスが持っているメソッド \n",
    "class Coodinate():\n",
    "    def __init__(self, x,y):\n",
    "        self.x = x\n",
    "        self.y = y\n",
    "    \n",
    "    def __add__(self , c):\n",
    "        return Coodinate(self.x + c.x, self.y + c.y)\n",
    "\n",
    "    def __str__(self):\n",
    "        return f\"{self.x}, {self.y}\""
   ]
  },
  {
   "cell_type": "code",
   "execution_count": 105,
   "id": "b2a8611d",
   "metadata": {},
   "outputs": [
    {
     "name": "stdout",
     "output_type": "stream",
     "text": [
      "3, 5\n"
     ]
    }
   ],
   "source": [
    "c1 = Coodinate(1, 2)\n",
    "c2 = Coodinate(2,3)\n",
    "c3 = c1 + c2\n",
    "print(c3)"
   ]
  },
  {
   "cell_type": "code",
   "execution_count": null,
   "id": "8651e136",
   "metadata": {},
   "outputs": [],
   "source": []
  }
 ],
 "metadata": {
  "kernelspec": {
   "display_name": "Python 3 (ipykernel)",
   "language": "python",
   "name": "python3"
  },
  "language_info": {
   "codemirror_mode": {
    "name": "ipython",
    "version": 3
   },
   "file_extension": ".py",
   "mimetype": "text/x-python",
   "name": "python",
   "nbconvert_exporter": "python",
   "pygments_lexer": "ipython3",
   "version": "3.10.10"
  }
 },
 "nbformat": 4,
 "nbformat_minor": 5
}
