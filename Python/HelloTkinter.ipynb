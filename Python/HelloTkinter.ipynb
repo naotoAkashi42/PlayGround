{
 "cells": [
  {
   "cell_type": "markdown",
   "metadata": {},
   "source": [
    "# Hello tkinter"
   ]
  },
  {
   "cell_type": "code",
   "execution_count": null,
   "metadata": {},
   "outputs": [],
   "source": [
    "## vertionの確認とWindow試しに出してみる\n",
    "import tkinter\n",
    "tkinter._test()"
   ]
  },
  {
   "cell_type": "code",
   "execution_count": null,
   "metadata": {},
   "outputs": [],
   "source": [
    "from tkinter import *\n",
    "from tkinter import ttk\n",
    "\n",
    "root = Tk()\n",
    "root.title(\"Hello Tkinter!!\")\n",
    "\n",
    "label = ttk.Label(root,text ='Hello Python!')\n",
    "entry = ttk.Entry(root) #入力\n",
    "button = ttk.Button(root,text = 'OK')\n",
    "\n",
    "#mainloopより前にPackした部品が表示され\n",
    "label.pack() \n",
    "entry.pack()\n",
    "button.pack()\n",
    "\n",
    "##ウィンドウの表示\n",
    "root.mainloop()"
   ]
  },
  {
   "cell_type": "markdown",
   "metadata": {},
   "source": [
    "## OpenFileDialogを表示してそのパスを受け取る"
   ]
  },
  {
   "cell_type": "code",
   "execution_count": null,
   "metadata": {},
   "outputs": [],
   "source": [
    "from tkinter import *\n",
    "from tkinter import ttk\n",
    "from tkinter import filedialog\n",
    "\n",
    "def SelectTargetFile():\n",
    "    global targetFileName \n",
    "    targetFileName = filedialog.askopenfilename(\n",
    "        title = \"ファイルを開く\",\n",
    "        initialdir = \"./\" # 自分自身のディレクトリ\n",
    "        )\n",
    "    print(targetFileName)\n",
    "\n",
    "root = Tk()\n",
    "root.title(\"ファイル選択\")\n",
    "\n",
    "# 第三引数で、buttonのクリックイベントハンドラ渡す\n",
    "button = ttk.Button(root,text = '対象ファイルの選択', command=lambda:SelectTargetFile())\n",
    "\n",
    "button.pack()\n",
    "\n",
    "root.mainloop()"
   ]
  },
  {
   "cell_type": "markdown",
   "metadata": {},
   "source": [
    "## Tkinter ひな形"
   ]
  },
  {
   "cell_type": "code",
   "execution_count": 43,
   "metadata": {},
   "outputs": [
    {
     "name": "stderr",
     "output_type": "stream",
     "text": [
      "Exception in Tkinter callback\n",
      "Traceback (most recent call last):\n",
      "  File \"C:\\Program Files\\WindowsApps\\PythonSoftwareFoundation.Python.3.9_3.9.3568.0_x64__qbz5n2kfra8p0\\lib\\tkinter\\__init__.py\", line 1892, in __call__\n",
      "    return self.func(*args)\n",
      "  File \"C:\\Users\\aksh0\\AppData\\Local\\Temp\\ipykernel_4972\\3001239294.py\", line 60, in select_targetFiles\n",
      "    self.selected_files.delete( '1.0', tk.END )\n",
      "AttributeError: 'Application' object has no attribute 'selected_files'\n"
     ]
    }
   ],
   "source": [
    "import sys\n",
    "import os\n",
    "import numpy as np\n",
    "import tkinter as tk\n",
    "\n",
    "import tkinter.ttk as ttk\n",
    "from PIL import Image, ImageTk\n",
    "from tkinter import messagebox as tkMessageBox\n",
    "from tkinter import filedialog as tkFileDialog\n",
    "\n",
    "\n",
    "# アプリケーション（GUI）クラス\n",
    "class Application(tk.Frame):\n",
    "    DEBUG_LOG = True\n",
    "    def __init__(self, master=None):\n",
    "        super().__init__(master)\n",
    "        self.pack()\n",
    "\n",
    "        self.create_widgets()\n",
    "\n",
    "    def create_widgets(self):\n",
    "          # ペインウィンドウ\n",
    "        # PanedWindow\n",
    "        ##  orient : 配置（vertical or horizontal）\n",
    "        ##  bg : 枠線の色\n",
    "        # pack\n",
    "        ##  expand ：可変（True or False(固定)\n",
    "        ##  fill : スペースが空いている場合の動き（tk.BOTH　縦横に広がる）\n",
    "        ##  side ：　配置する際にどの方向からつめていくか（side or top ・・・）\n",
    "        pw_main = tk.PanedWindow(self.master, orient='horizontal')\n",
    "        pw_main.pack(expand=True, fill = tk.BOTH, side=\"left\")\n",
    "\n",
    "        pw_left = tk.PanedWindow(pw_main, bg=\"cyan\", orient='vertical')\n",
    "        pw_main.add(pw_left)\n",
    "        pw_right = tk.PanedWindow(pw_main, bg=\"white\", orient='vertical')\n",
    "        pw_main.add(pw_right)\n",
    "\n",
    "        fm_select = tk.Frame(pw_left, bd=2, relief=\"ridge\")\n",
    "        pw_left.add(fm_select)\n",
    "\n",
    "        selected_files = tk.Text(fm_select, height=10, width=50, wrap=tk.CHAR)\n",
    "        selected_files.grid(row=1, column=1, padx=2, pady=2)\n",
    "\n",
    "\n",
    "        label_fpath = tk.Button(fm_select, text=\"ファイルパス選択\", width=20, command=self.select_targetFiles)\n",
    "        ## ラベルを配置\n",
    "        label_fpath.grid(row=0, column=0, padx=2, pady=2)\n",
    "\n",
    "        entry_fpath = tk.Entry(fm_select, justify=\"left\", width=50)\n",
    "        entry_fpath.grid(row=0, column=1, sticky=tk.W + tk.E,padx=2, pady=2)\n",
    "\n",
    "    def select_targetFiles(self):\n",
    "        # 選択可能な拡張子を限定\n",
    "        fTyp =[(\"\", \"*.xlsx;\")]\n",
    "        iDir = os.path.abspath(os.path.dirname(\"__file__\"))\n",
    "        files = tkFileDialog.askopenfilenames(filetypes = fTyp, initialdir = iDir)\n",
    "\n",
    "        # 選択されたファイルパスを表示\n",
    "        # 前回分を全行削除\n",
    "        self.selected_files.delete( '1.0', tk.END ) \n",
    "        file_list = list(files)\n",
    "        if(len(file_list) <= 10):\n",
    "            for i in np.arange(0, len(file_list)):\n",
    "                self.selected_files.insert(\"end\", \"{}\\n\".format(file_list[i]))  \n",
    "\n",
    "# 実行\n",
    "root = tk.Tk()        \n",
    "myapp = Application(master=root)\n",
    "myapp.master.title(\"My Application\") # タイトル\n",
    "myapp.master.geometry(\"1000x500\") # ウィンドウの幅と高さピクセル単位で指定（width x height）\n",
    "\n",
    "myapp.mainloop()"
   ]
  },
  {
   "cell_type": "code",
   "execution_count": null,
   "metadata": {},
   "outputs": [],
   "source": [
    "\n"
   ]
  }
 ],
 "metadata": {
  "kernelspec": {
   "display_name": "Python 3",
   "language": "python",
   "name": "python3"
  },
  "language_info": {
   "codemirror_mode": {
    "name": "ipython",
    "version": 3
   },
   "file_extension": ".py",
   "mimetype": "text/x-python",
   "name": "python",
   "nbconvert_exporter": "python",
   "pygments_lexer": "ipython3",
   "version": "3.9.13"
  }
 },
 "nbformat": 4,
 "nbformat_minor": 2
}
