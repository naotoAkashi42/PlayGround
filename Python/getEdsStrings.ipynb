{
 "cells": [
  {
   "cell_type": "code",
   "execution_count": 19,
   "metadata": {},
   "outputs": [
    {
     "name": "stdout",
     "output_type": "stream",
     "text": [
      "<Element 'EDSInfo' at 0x000001AA7C7721D0>\n",
      "入力時定数 入力時定数を設定します。 0,\"10ms\",1,\"1ms\",2,\"25μs\",3,\"300μs\"\n",
      "ID番号占有数 ID番号占有数を格納します。 None\n",
      "プロダクトコード プロダクトコードを格納します None\n",
      "リビジョン リビジョンを格納します。上位バイトがメジャーリビジョンを、下位バイトがマイナーリビジョンを格納します。 None\n",
      "型式名 拡張ユニットの型式名を格納します。 None\n",
      "デバイスタイプ デバイスタイプを格納します。 None\n",
      "モニタデータBit0-15 None None\n",
      "時定数us None None\n",
      "Input time constant Set the input time constant. 0,\"10ms\",1,\"1ms\",2,\"25us\",3,\"300us\"\n",
      "Occupied ID number Store the occupied number of the ID number. None\n",
      "Product code Store the product code. None\n",
      "Revision Store the revision. The high-order byte stores the major revision and the low-order byte stores the minor revision. None\n",
      "Product name Store the model name of the expansion unit. None\n",
      "Device type Store the device type. None\n",
      "Monitor Data Bit0-15 None None\n",
      "Time constant(us) None None\n",
      "ENG\n"
     ]
    }
   ],
   "source": [
    "import xml.etree.ElementTree as ET\n",
    "import os\n",
    "import re\n",
    "import pandas as pd\n",
    "\n",
    "def get_target_xml_fullPath():\n",
    "  filePath = input()\n",
    "  name, ext = os.path.splitext(filePath)\n",
    "  if ext != '.xml':\n",
    "    return \"\"\n",
    "\n",
    "  if (not os.path.exists(filePath)):\n",
    "      return \"\"\n",
    "\n",
    "  return filePath\n",
    "    \n",
    "def search_target_xml(rootDirFullPath, regex_pattern):\n",
    "  match_files = []\n",
    "  for root, _, files in os.walk(rootDirFullPath):\n",
    "    for filename in files:\n",
    "       if re.match(regex_pattern, filename):\n",
    "          match_files.append(os.path.join(root, filename))\n",
    "  return match_files\n",
    "   \n",
    "def try_get_xml_element_text(xml_root, element_full_path):\n",
    "   element = xml_root.find(element_full_path)\n",
    "   if element is None:\n",
    "      return \"none\"\n",
    "   \n",
    "   return element.text\n",
    "\n",
    "def get_module_descritpion_dataFrame(targetXmlFiles):\n",
    "  outputData = [[\"ModuleName\", \"JPN\", \"ENG\", \"FileName\"]]\n",
    "  for xml in targetXmlFiles:\n",
    "    xml_tree = ET.parse(xml)\n",
    "    xml_root = xml_tree.getroot()\n",
    "\n",
    "    product_name = try_get_xml_element_text(xml_root,'./AdapterInfo/ProdName')\n",
    "    descTextModuleJpn = try_get_xml_element_text(xml_root,'./AdapterInfo/DescTextMulLan/JPN')\n",
    "    descTextModuleEng = try_get_xml_element_text(xml_root,'./AdapterInfo/DescTextMulLan/ENG')\n",
    "\n",
    "    data = [product_name, descTextModuleJpn, descTextModuleEng, os.path.basename(xml)]\n",
    "    outputData.append(data)\n",
    "    # print(outputData)\n",
    "  # print(outputData)\n",
    "  df = pd.DataFrame(outputData)\n",
    "  return df\n",
    "\n",
    "dirFullPath = input()\n",
    "targets = search_target_xml(dirFullPath, r\"367_43_2(\\d{2})_1_1\\.xml\")\n",
    "\n",
    "df = get_module_descritpion_dataFrame(targets)\n",
    "\n",
    "xml_tree = ET.parse(targets[2])\n",
    "print(xml_tree.getroot())\n",
    "params = xml_tree.findall('.//ParameterTable/Parameter')\n",
    "\n",
    "language = ['JPN', 'ENG']\n",
    "for l in language:\n",
    "  for p in params:\n",
    "    commnet = try_get_xml_element_text(p, f'ParameterNameMulLan/{l}')\n",
    "    description = try_get_xml_element_text(p, f'HelpStringMulLan/{l}')\n",
    "    values = try_get_xml_element_text(p, f'EnumMulLan/{l}')\n",
    "    print(commnet, description, values)\n",
    "\n",
    "print(l)\n",
    "\n"
   ]
  },
  {
   "cell_type": "code",
   "execution_count": null,
   "metadata": {},
   "outputs": [],
   "source": [
    "def get_init_cmd_text_dataFrame(targetXmlFiles):\n",
    "  outputData = [[\"ModleName\", \"Comment(JPN)\", \"Description(Jpn)\", \"Values(Jpn)\"]]\n",
    "\n",
    "  for xml in targetXmlFiles:\n",
    "    xml_tree = ET.parse(xml)\n",
    "    xml_root = xml_tree.getroot()\n",
    "\n",
    "    mod_name = try_get_xml_element_text(xml_root,'./AdapterInfo/ProdName')\n",
    "    comment_cmd_jpn = try_get_xml_element_text(xml_root, './ParameterTable/Parameter')"
   ]
  },
  {
   "cell_type": "code",
   "execution_count": null,
   "metadata": {},
   "outputs": [],
   "source": []
  }
 ],
 "metadata": {
  "kernelspec": {
   "display_name": "Python 3",
   "language": "python",
   "name": "python3"
  },
  "language_info": {
   "codemirror_mode": {
    "name": "ipython",
    "version": 3
   },
   "file_extension": ".py",
   "mimetype": "text/x-python",
   "name": "python",
   "nbconvert_exporter": "python",
   "pygments_lexer": "ipython3",
   "version": "3.9.6"
  }
 },
 "nbformat": 4,
 "nbformat_minor": 2
}
